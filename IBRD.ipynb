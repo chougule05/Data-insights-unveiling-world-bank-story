{
 "cells": [
  {
   "cell_type": "code",
   "execution_count": 1,
   "id": "becfaeab",
   "metadata": {},
   "outputs": [],
   "source": [
    "import warnings\n",
    "warnings.filterwarnings('ignore')"
   ]
  },
  {
   "cell_type": "code",
   "execution_count": 2,
   "id": "3606549a",
   "metadata": {},
   "outputs": [],
   "source": [
    "import os\n",
    "os.chdir('D:\\CDAC\\Project\\IBRD')"
   ]
  },
  {
   "cell_type": "code",
   "execution_count": 3,
   "id": "4d9853b4",
   "metadata": {},
   "outputs": [],
   "source": [
    "import pandas as pd\n",
    "\n",
    "df = pd.read_csv(\"IBRD_Statement_Of_Loans_-_Historical_Data_20240207.csv\")"
   ]
  },
  {
   "cell_type": "code",
   "execution_count": 4,
   "id": "dcede3c1",
   "metadata": {},
   "outputs": [
    {
     "data": {
      "text/plain": [
       "(1278093, 33)"
      ]
     },
     "execution_count": 4,
     "metadata": {},
     "output_type": "execute_result"
    }
   ],
   "source": [
    "df.shape"
   ]
  },
  {
   "cell_type": "code",
   "execution_count": 5,
   "id": "b114277e",
   "metadata": {},
   "outputs": [
    {
     "data": {
      "text/plain": [
       "56"
      ]
     },
     "execution_count": 5,
     "metadata": {},
     "output_type": "execute_result"
    }
   ],
   "source": [
    "df.duplicated().sum()"
   ]
  },
  {
   "cell_type": "code",
   "execution_count": 6,
   "id": "1d587466",
   "metadata": {},
   "outputs": [],
   "source": [
    "df = df.drop_duplicates()"
   ]
  },
  {
   "cell_type": "code",
   "execution_count": 7,
   "id": "60a2d3da",
   "metadata": {},
   "outputs": [
    {
     "data": {
      "text/plain": [
       "End of Period                     0.000000\n",
       "Loan Number                       0.000000\n",
       "Region                            0.000000\n",
       "Country Code                      0.024099\n",
       "Country                           0.000000\n",
       "Borrower                          0.691451\n",
       "Guarantor Country Code            3.727513\n",
       "Guarantor                         5.790051\n",
       "Loan Type                         0.000000\n",
       "Loan Status                       0.000000\n",
       "Interest Rate                     2.366285\n",
       "Currency of Commitment          100.000000\n",
       "Project ID                        0.003286\n",
       "Project Name                     12.449874\n",
       "Original Principal Amount         0.000000\n",
       "Cancelled Amount                  0.000000\n",
       "Undisbursed Amount                0.000000\n",
       "Disbursed Amount                  0.000000\n",
       "Repaid to IBRD                    0.000000\n",
       "Due to IBRD                       0.000000\n",
       "Exchange Adjustment               0.000000\n",
       "Borrower's Obligation             0.000000\n",
       "Sold 3rd Party                    0.000000\n",
       "Repaid 3rd Party                  0.000000\n",
       "Due 3rd Party                     0.000000\n",
       "Loans Held                        0.000000\n",
       "First Repayment Date              0.300617\n",
       "Last Repayment Date               0.288646\n",
       "Agreement Signing Date            1.442447\n",
       "Board Approval Date               0.000156\n",
       "Effective Date (Most Recent)      0.760228\n",
       "Closed Date (Most Recent)         0.094676\n",
       "Last Disbursement Date           40.894121\n",
       "dtype: float64"
      ]
     },
     "execution_count": 7,
     "metadata": {},
     "output_type": "execute_result"
    }
   ],
   "source": [
    "(df.isnull().sum())*100/df.shape[0]"
   ]
  },
  {
   "cell_type": "code",
   "execution_count": 8,
   "id": "84c73eb2",
   "metadata": {},
   "outputs": [],
   "source": [
    "new_df = df.iloc[:, :-7]\n",
    "new_df = new_df.drop(columns=[\"Currency of Commitment\",\"Loan Number\",\"Country Code\",\"Guarantor Country Code\",\"Project ID\",\"Due 3rd Party\",\"Repaid 3rd Party\",\"Sold 3rd Party\"])"
   ]
  },
  {
   "cell_type": "code",
   "execution_count": 32,
   "id": "c482377d",
   "metadata": {},
   "outputs": [
    {
     "data": {
      "text/plain": [
       "End of Period                 object\n",
       "Region                        object\n",
       "Country                       object\n",
       "Borrower                      object\n",
       "Guarantor                     object\n",
       "Loan Type                     object\n",
       "Loan Status                   object\n",
       "Interest Rate                float64\n",
       "Project Name                  object\n",
       "Original Principal Amount    float64\n",
       "Cancelled Amount             float64\n",
       "Undisbursed Amount           float64\n",
       "Disbursed Amount             float64\n",
       "Repaid to IBRD               float64\n",
       "Due to IBRD                  float64\n",
       "Exchange Adjustment          float64\n",
       "Borrower's Obligation        float64\n",
       "Loans Held                   float64\n",
       "dtype: object"
      ]
     },
     "execution_count": 32,
     "metadata": {},
     "output_type": "execute_result"
    }
   ],
   "source": [
    "new_df.dtypes"
   ]
  },
  {
   "cell_type": "code",
   "execution_count": 31,
   "id": "b3d4477e",
   "metadata": {},
   "outputs": [],
   "source": [
    "# Convert the first 7 columns to string type\n",
    "new_df.iloc[:, :7] = new_df.iloc[:, :7].astype(str)\n",
    "\n",
    "# Convert the 8th column to string type\n",
    "new_df.iloc[:, 8] = new_df.iloc[:, 8].astype(str)\n"
   ]
  },
  {
   "cell_type": "code",
   "execution_count": 18,
   "id": "a766b628",
   "metadata": {},
   "outputs": [
    {
     "data": {
      "text/plain": [
       "End of Period                0.0\n",
       "Region                       0.0\n",
       "Country                      0.0\n",
       "Borrower                     0.0\n",
       "Guarantor                    0.0\n",
       "Loan Type                    0.0\n",
       "Loan Status                  0.0\n",
       "Interest Rate                0.0\n",
       "Project Name                 0.0\n",
       "Original Principal Amount    0.0\n",
       "Cancelled Amount             0.0\n",
       "Undisbursed Amount           0.0\n",
       "Disbursed Amount             0.0\n",
       "Repaid to IBRD               0.0\n",
       "Due to IBRD                  0.0\n",
       "Exchange Adjustment          0.0\n",
       "Borrower's Obligation        0.0\n",
       "Loans Held                   0.0\n",
       "dtype: float64"
      ]
     },
     "execution_count": 18,
     "metadata": {},
     "output_type": "execute_result"
    }
   ],
   "source": [
    "(new_df.isnull().sum())*100/new_df.shape[0]"
   ]
  },
  {
   "cell_type": "code",
   "execution_count": 12,
   "id": "375f5d5d",
   "metadata": {},
   "outputs": [],
   "source": [
    "from sklearn.impute import SimpleImputer\n",
    "\n",
    "# Create a SimpleImputer object with strategy='most_frequent'\n",
    "imputer = SimpleImputer(strategy='most_frequent')\n",
    "\n",
    "# Reshape the column to a 2D array\n",
    "interestrate_column = new_df.iloc[:,7].values.reshape(-1, 1)\n",
    "\n",
    "# Fit the imputer on the 'Project Name' column\n",
    "imputer.fit(interestrate_column)\n",
    "\n",
    "# Transform and replace the missing values in the 'Project Name' column\n",
    "new_df.iloc[:,7] = imputer.transform(interestrate_column)\n",
    "\n",
    "# Print the DataFrame with missing values imputed\n",
    "\n"
   ]
  },
  {
   "cell_type": "code",
   "execution_count": 14,
   "id": "047f224a",
   "metadata": {},
   "outputs": [],
   "source": [
    "from sklearn.impute import SimpleImputer\n",
    "\n",
    "# Create a SimpleImputer object with strategy='most_frequent'\n",
    "imputer = SimpleImputer(strategy='most_frequent')\n",
    "\n",
    "# Reshape the column to a 2D array\n",
    "project_name_column = new_df.iloc[:,8].values.reshape(-1, 1)\n",
    "\n",
    "# Fit the imputer on the 'Project Name' column\n",
    "imputer.fit(project_name_column)\n",
    "\n",
    "# Transform and replace the missing values in the 'Project Name' column\n",
    "new_df.iloc[:,8] = imputer.transform(project_name_column)\n",
    "\n",
    "# Print the DataFrame with missing values imputed\n"
   ]
  },
  {
   "cell_type": "code",
   "execution_count": 15,
   "id": "03debbef",
   "metadata": {},
   "outputs": [],
   "source": [
    "from sklearn.impute import SimpleImputer\n",
    "\n",
    "# Create a SimpleImputer object with strategy='most_frequent'\n",
    "imputer = SimpleImputer(strategy='most_frequent')\n",
    "\n",
    "# Reshape the column to a 2D array\n",
    "borrower_column = new_df.iloc[:,3].values.reshape(-1, 1)\n",
    "\n",
    "# Fit the imputer on the 'Project Name' column\n",
    "imputer.fit(borrower_column)\n",
    "\n",
    "# Transform and replace the missing values in the 'Project Name' column\n",
    "new_df.iloc[:,3] = imputer.transform(borrower_column)\n",
    "\n",
    "# Print the DataFrame with missing values imputed\n"
   ]
  },
  {
   "cell_type": "code",
   "execution_count": 17,
   "id": "075fcd81",
   "metadata": {},
   "outputs": [],
   "source": [
    "from sklearn.impute import SimpleImputer\n",
    "\n",
    "# Create a SimpleImputer object with strategy='most_frequent'\n",
    "imputer = SimpleImputer(strategy='most_frequent')\n",
    "\n",
    "# Reshape the column to a 2D array\n",
    "gr_column = new_df.iloc[:,4].values.reshape(-1, 1)\n",
    "\n",
    "# Fit the imputer on the 'Project Name' column\n",
    "imputer.fit(gr_column)\n",
    "\n",
    "# Transform and replace the missing values in the 'Project Name' column\n",
    "new_df.iloc[:,4] = imputer.transform(gr_column)\n",
    "\n",
    "# Print the DataFrame with missing values imputed\n"
   ]
  },
  {
   "cell_type": "code",
   "execution_count": 34,
   "id": "d179691f",
   "metadata": {},
   "outputs": [
    {
     "name": "stdout",
     "output_type": "stream",
     "text": [
      "Due to IBRD                  1.000000\n",
      "Borrower's Obligation        0.994123\n",
      "Loans Held                   0.898645\n",
      "Disbursed Amount             0.736965\n",
      "Original Principal Amount    0.680149\n",
      "Undisbursed Amount           0.106000\n",
      "Repaid to IBRD               0.001486\n",
      "Cancelled Amount            -0.000566\n",
      "Interest Rate               -0.273542\n",
      "Exchange Adjustment         -0.362530\n",
      "Name: Due to IBRD, dtype: float64\n"
     ]
    }
   ],
   "source": [
    "corr_matrix = new_df.corr()\n",
    "print(corr_matrix.iloc[:,6].sort_values(ascending=False))"
   ]
  },
  {
   "cell_type": "code",
   "execution_count": null,
   "id": "2ff93844",
   "metadata": {},
   "outputs": [],
   "source": []
  }
 ],
 "metadata": {
  "kernelspec": {
   "display_name": "Python 3 (ipykernel)",
   "language": "python",
   "name": "python3"
  },
  "language_info": {
   "codemirror_mode": {
    "name": "ipython",
    "version": 3
   },
   "file_extension": ".py",
   "mimetype": "text/x-python",
   "name": "python",
   "nbconvert_exporter": "python",
   "pygments_lexer": "ipython3",
   "version": "3.9.7"
  }
 },
 "nbformat": 4,
 "nbformat_minor": 5
}
