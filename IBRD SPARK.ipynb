{
 "cells": [
  {
   "cell_type": "code",
   "execution_count": 1,
   "id": "2093450f",
   "metadata": {},
   "outputs": [
    {
     "name": "stdout",
     "output_type": "stream",
     "text": [
      "Requirement already satisfied: pyspark in c:\\users\\vibhishan\\anaconda3\\lib\\site-packages (3.5.0)\n",
      "Requirement already satisfied: py4j==0.10.9.7 in c:\\users\\vibhishan\\anaconda3\\lib\\site-packages (from pyspark) (0.10.9.7)\n",
      "Note: you may need to restart the kernel to use updated packages.\n"
     ]
    }
   ],
   "source": [
    "pip install pyspark"
   ]
  },
  {
   "cell_type": "code",
   "execution_count": 2,
   "id": "a8c56c78",
   "metadata": {},
   "outputs": [],
   "source": [
    "from pyspark import SparkContext"
   ]
  },
  {
   "cell_type": "code",
   "execution_count": 3,
   "id": "f8ccef03",
   "metadata": {},
   "outputs": [],
   "source": [
    "sc = SparkContext.getOrCreate()"
   ]
  },
  {
   "cell_type": "code",
   "execution_count": 4,
   "id": "67d268f7",
   "metadata": {},
   "outputs": [],
   "source": [
    "from pyspark.sql import SparkSession\n",
    "\n",
    "spark = SparkSession.builder \\\n",
    "    .master(\"local[*]\") \\\n",
    "    .appName(\"Learning_Spark\") \\\n",
    "    .getOrCreate()"
   ]
  },
  {
   "cell_type": "code",
   "execution_count": 5,
   "id": "39ea9d91",
   "metadata": {},
   "outputs": [],
   "source": [
    "data = spark.read.csv('D:\\CDAC\\Project\\IBRD\\IBRD_Statement_Of_Loans_-_Historical_Data_20240207.csv',header=True)"
   ]
  },
  {
   "cell_type": "code",
   "execution_count": 6,
   "id": "219b57a9",
   "metadata": {},
   "outputs": [
    {
     "name": "stdout",
     "output_type": "stream",
     "text": [
      "+--------------------+-----------+--------------------+------------+-----------+-------------------+----------------------+---------+---------+------------+-------------+----------------------+----------+--------------------+-------------------------+----------------+------------------+----------------+--------------+-----------+-------------------+---------------------+--------------+----------------+-------------+----------+--------------------+--------------------+----------------------+--------------------+----------------------------+-------------------------+----------------------+\n",
      "|       End of Period|Loan Number|              Region|Country Code|    Country|           Borrower|Guarantor Country Code|Guarantor|Loan Type| Loan Status|Interest Rate|Currency of Commitment|Project ID|       Project Name |Original Principal Amount|Cancelled Amount|Undisbursed Amount|Disbursed Amount|Repaid to IBRD|Due to IBRD|Exchange Adjustment|Borrower's Obligation|Sold 3rd Party|Repaid 3rd Party|Due 3rd Party|Loans Held|First Repayment Date| Last Repayment Date|Agreement Signing Date| Board Approval Date|Effective Date (Most Recent)|Closed Date (Most Recent)|Last Disbursement Date|\n",
      "+--------------------+-----------+--------------------+------------+-----------+-------------------+----------------------+---------+---------+------------+-------------+----------------------+----------+--------------------+-------------------------+----------------+------------------+----------------+--------------+-----------+-------------------+---------------------+--------------+----------------+-------------+----------+--------------------+--------------------+----------------------+--------------------+----------------------------+-------------------------+----------------------+\n",
      "|05/31/2022 12:00:...|  IBRD00010|EUROPE AND CENTRA...|          FR|     France|    CREDIT NATIONAL|                    FR|   France|      NPL|Fully Repaid|         4.25|                  NULL|   P037383|      RECONSTRUCTION|                250000000|               0|                 0|       250000000|         38000|          0|                  0|                    0|     249962000|       249962000|            0|         0|11/01/1952 12:00:...|05/01/1977 12:00:...|  05/09/1947 12:00:...|05/09/1947 12:00:...|        06/09/1947 12:00:...|     12/31/1947 12:00:...|                  NULL|\n",
      "|05/31/2022 12:00:...|  IBRD00020|EUROPE AND CENTRA...|          NL|Netherlands|               NULL|                  NULL|     NULL|      NPL|Fully Repaid|         4.25|                  NULL|   P037452|      RECONSTRUCTION|             191044211.75|               0|                 0|    191044211.75|  103372211.75|          0|                  0|                    0|      87672000|        87672000|            0|         0|04/01/1952 12:00:...|10/01/1972 12:00:...|  08/07/1947 12:00:...|08/07/1947 12:00:...|        09/11/1947 12:00:...|     03/31/1948 12:00:...|                  NULL|\n",
      "|05/31/2022 12:00:...|  IBRD00021|EUROPE AND CENTRA...|          NL|Netherlands|               NULL|                  NULL|     NULL|      NPL|Fully Repaid|         4.25|                  NULL|   P037452|      RECONSTRUCTION|               3955788.25|               0|                 0|      3955788.25|             0|          0|                  0|                    0|    3955788.25|      3955788.25|            0|         0|04/01/1953 12:00:...|04/01/1954 12:00:...|  05/25/1948 12:00:...|08/07/1947 12:00:...|        06/01/1948 12:00:...|     06/30/1948 12:00:...|                  NULL|\n",
      "|05/31/2022 12:00:...|  IBRD00030|EUROPE AND CENTRA...|          DK|    Denmark|               NULL|                  NULL|     NULL|      NPL|Fully Repaid|         4.25|                  NULL|   P037362|      RECONSTRUCTION|                 40000000|               0|                 0|        40000000|      17771000|          0|                  0|                    0|      22229000|        22229000|            0|         0|02/01/1953 12:00:...|08/01/1972 12:00:...|  08/22/1947 12:00:...|08/22/1947 12:00:...|        10/17/1947 12:00:...|     03/31/1949 12:00:...|                  NULL|\n",
      "|05/31/2022 12:00:...|  IBRD00040|EUROPE AND CENTRA...|          LU| Luxembourg|               NULL|                  NULL|     NULL|      NPL|Fully Repaid|         4.25|                  NULL|   P037451|      RECONSTRUCTION|                 12000000|               0|                 0|     11761983.02|    1619983.02|          0|               0.01|                 0.01|      10142000|        10142000|            0|         0|07/15/1949 12:00:...|07/15/1972 12:00:...|  08/28/1947 12:00:...|08/28/1947 12:00:...|        10/24/1947 12:00:...|     03/31/1949 12:00:...|                  NULL|\n",
      "|05/31/2022 12:00:...|  IBRD00050|LATIN AMERICA AND...|          CL|      Chile|Ministry of Finance|                    CL|    Chile|      NPL|Fully Repaid|          4.5|                  NULL|   P006578|               POWER|                 13500000|               0|                 0|        13500000|      12167000|          0|                  0|                    0|       1333000|         1333000|            0|         0|07/01/1953 12:00:...|07/01/1968 12:00:...|  03/25/1948 12:00:...|03/25/1948 12:00:...|        04/07/1949 12:00:...|     12/31/1954 12:00:...|                  NULL|\n",
      "|05/31/2022 12:00:...|  IBRD00060|LATIN AMERICA AND...|          CL|      Chile|Ministry of Finance|                    CL|    Chile|      NPL|Fully Repaid|         3.75|                  NULL|   P006577|FOMENTO AGRIC CREDIT|                  2500000|               0|                 0|         2500000|        755000|          0|                  0|                    0|       1745000|         1745000|            0|         0|07/01/1950 12:00:...|01/01/1955 12:00:...|  03/25/1948 12:00:...|03/25/1948 12:00:...|        04/07/1949 12:00:...|     01/01/1950 12:00:...|                  NULL|\n",
      "|05/31/2022 12:00:...|  IBRD00070|EUROPE AND CENTRA...|          NL|Netherlands|               NULL|                  NULL|     NULL|      NPL|Fully Repaid|       3.5625|                  NULL|   P037453|          SHIPPING I|                  2000000|               0|                 0|         2000000|             0|          0|                  0|                    0|       2000000|         2000000|            0|         0|01/15/1949 12:00:...|07/15/1958 12:00:...|  07/15/1948 12:00:...|05/21/1948 12:00:...|        08/03/1948 12:00:...|     08/03/1948 12:00:...|                  NULL|\n",
      "|05/31/2022 12:00:...|  IBRD00071|EUROPE AND CENTRA...|          NL|Netherlands|               NULL|                  NULL|     NULL|      NPL|Fully Repaid|       3.5625|                  NULL|   P037453|          SHIPPING I|                  2000000|               0|                 0|         2000000|             0|          0|                  0|                    0|       2000000|         2000000|            0|         0|01/15/1949 12:00:...|07/15/1958 12:00:...|  07/15/1948 12:00:...|05/21/1948 12:00:...|        08/03/1948 12:00:...|     08/03/1948 12:00:...|                  NULL|\n",
      "|05/31/2022 12:00:...|  IBRD00080|EUROPE AND CENTRA...|          NL|Netherlands|               NULL|                  NULL|     NULL|      NPL|Fully Repaid|       3.5625|                  NULL|   P037454|         SHIPPING II|                  2000000|               0|                 0|         2000000|             0|          0|                  0|                    0|       2000000|         2000000|            0|         0|01/15/1949 12:00:...|07/15/1958 12:00:...|  07/15/1948 12:00:...|05/21/1948 12:00:...|        08/03/1948 12:00:...|     08/03/1948 12:00:...|                  NULL|\n",
      "+--------------------+-----------+--------------------+------------+-----------+-------------------+----------------------+---------+---------+------------+-------------+----------------------+----------+--------------------+-------------------------+----------------+------------------+----------------+--------------+-----------+-------------------+---------------------+--------------+----------------+-------------+----------+--------------------+--------------------+----------------------+--------------------+----------------------------+-------------------------+----------------------+\n",
      "only showing top 10 rows\n",
      "\n"
     ]
    }
   ],
   "source": [
    "data.show(10)"
   ]
  },
  {
   "cell_type": "code",
   "execution_count": 7,
   "id": "ff192fa1",
   "metadata": {},
   "outputs": [
    {
     "name": "stdout",
     "output_type": "stream",
     "text": [
      "Shape of the DataFrame: (1278141, 33)\n"
     ]
    }
   ],
   "source": [
    "# Get the number of rows\n",
    "num_rows = data.count()\n",
    "\n",
    "# Get the number of columns\n",
    "num_columns = len(data.columns)\n",
    "\n",
    "print(\"Shape of the DataFrame: ({}, {})\".format(num_rows, num_columns))"
   ]
  },
  {
   "cell_type": "code",
   "execution_count": 8,
   "id": "aeebbf67",
   "metadata": {},
   "outputs": [
    {
     "name": "stdout",
     "output_type": "stream",
     "text": [
      "Number of duplicate rows removed: 93\n"
     ]
    }
   ],
   "source": [
    "# Identify and remove duplicate rows\n",
    "data = data.dropDuplicates()\n",
    "\n",
    "# Count the number of rows after removing duplicates\n",
    "num_rows_no_duplicates = data.count()\n",
    "\n",
    "print(\"Number of duplicate rows removed:\", num_rows - num_rows_no_duplicates)"
   ]
  },
  {
   "cell_type": "code",
   "execution_count": 9,
   "id": "0dc818d7",
   "metadata": {},
   "outputs": [
    {
     "name": "stdout",
     "output_type": "stream",
     "text": [
      "Shape of the DataFrame: (1278048, 33)\n"
     ]
    }
   ],
   "source": [
    "num_rows = data.count()\n",
    "print(\"Shape of the DataFrame: ({}, {})\".format(num_rows, num_columns))"
   ]
  },
  {
   "cell_type": "code",
   "execution_count": 10,
   "id": "085f0b20",
   "metadata": {},
   "outputs": [
    {
     "name": "stdout",
     "output_type": "stream",
     "text": [
      "Column 'End of Period' : 'string'\n",
      "Column 'Loan Number' : 'string'\n",
      "Column 'Region' : 'string'\n",
      "Column 'Country Code' : 'string'\n",
      "Column 'Country' : 'string'\n",
      "Column 'Borrower' : 'string'\n",
      "Column 'Guarantor Country Code' : 'string'\n",
      "Column 'Guarantor' : 'string'\n",
      "Column 'Loan Type' : 'string'\n",
      "Column 'Loan Status' : 'string'\n",
      "Column 'Interest Rate' : 'string'\n",
      "Column 'Currency of Commitment' : 'string'\n",
      "Column 'Project ID' : 'string'\n",
      "Column 'Project Name ' : 'string'\n",
      "Column 'Original Principal Amount' : 'string'\n",
      "Column 'Cancelled Amount' : 'string'\n",
      "Column 'Undisbursed Amount' : 'string'\n",
      "Column 'Disbursed Amount' : 'string'\n",
      "Column 'Repaid to IBRD' : 'string'\n",
      "Column 'Due to IBRD' : 'string'\n",
      "Column 'Exchange Adjustment' : 'string'\n",
      "Column 'Borrower's Obligation' : 'string'\n",
      "Column 'Sold 3rd Party' : 'string'\n",
      "Column 'Repaid 3rd Party' : 'string'\n",
      "Column 'Due 3rd Party' : 'string'\n",
      "Column 'Loans Held' : 'string'\n",
      "Column 'First Repayment Date' : 'string'\n",
      "Column 'Last Repayment Date' : 'string'\n",
      "Column 'Agreement Signing Date' : 'string'\n",
      "Column 'Board Approval Date' : 'string'\n",
      "Column 'Effective Date (Most Recent)' : 'string'\n",
      "Column 'Closed Date (Most Recent)' : 'string'\n",
      "Column 'Last Disbursement Date' : 'string'\n"
     ]
    }
   ],
   "source": [
    "# Get the data types of columns in the DataFrame\n",
    "column_types = data.dtypes\n",
    "\n",
    "# Print the data types\n",
    "for column_name, data_type in column_types:\n",
    "    print(f\"Column '{column_name}' : '{data_type}'\")"
   ]
  },
  {
   "cell_type": "markdown",
   "id": "d2213cbb",
   "metadata": {},
   "source": [
    "### Value count for target column i.e Loan Status "
   ]
  },
  {
   "cell_type": "code",
   "execution_count": 11,
   "id": "a7d01245",
   "metadata": {},
   "outputs": [
    {
     "name": "stdout",
     "output_type": "stream",
     "text": [
      "+-------------------+------+\n",
      "|        Loan Status| count|\n",
      "+-------------------+------+\n",
      "|         Disbursing| 81199|\n",
      "|Disbursing&Repaying| 11733|\n",
      "|           Approved|  7136|\n",
      "|               NULL|    48|\n",
      "|    Fully Cancelled| 18475|\n",
      "|          Cancelled| 12678|\n",
      "|             Signed|  4613|\n",
      "|          Effective|  4893|\n",
      "|         Terminated|  7665|\n",
      "|    Fully Disbursed| 23500|\n",
      "|          Disbursed| 83398|\n",
      "|           Repaying| 89279|\n",
      "|            8000000|    11|\n",
      "|  Fully Transferred| 18690|\n",
      "|             Repaid|370482|\n",
      "|       Fully Repaid|544246|\n",
      "|              Draft|     1|\n",
      "|         Negotiated|     1|\n",
      "+-------------------+------+\n",
      "\n"
     ]
    }
   ],
   "source": [
    "# Group by the \"Loan Status\" column and count the occurrences of each unique value\n",
    "loan_status_counts = data.groupBy(\"Loan Status\").count()\n",
    "\n",
    "# Show the value counts\n",
    "loan_status_counts.show()"
   ]
  },
  {
   "cell_type": "code",
   "execution_count": 12,
   "id": "59e3601a",
   "metadata": {},
   "outputs": [
    {
     "name": "stdout",
     "output_type": "stream",
     "text": [
      "+-----------+------+\n",
      "|Loan Status| count|\n",
      "+-----------+------+\n",
      "| Disbursing| 92932|\n",
      "|   Approved|  7136|\n",
      "|       NULL|    48|\n",
      "|  Cancelled| 31153|\n",
      "|     Signed|  4615|\n",
      "|  Effective| 94172|\n",
      "| Terminated|  7665|\n",
      "|  Disbursed|125588|\n",
      "|    8000000|    11|\n",
      "|     Repaid|914728|\n",
      "+-----------+------+\n",
      "\n"
     ]
    }
   ],
   "source": [
    "from pyspark.sql.functions import when\n",
    "\n",
    "# Replace values in the \"Loan Status\" column\n",
    "data = data.withColumn(\"Loan Status\", \n",
    "                       when(data[\"Loan Status\"] == \"Fully Repaid\", \"Repaid\")\n",
    "                       .when(data[\"Loan Status\"] == \"Fully Cancelled\", \"Cancelled\")\n",
    "                       .when(data[\"Loan Status\"] == \"Fully Transferred\", \"Disbursed\")\n",
    "                       .when(data[\"Loan Status\"] == \"Fully Disbursed\", \"Disbursed\")\n",
    "                       .when(data[\"Loan Status\"] == \"Disbursing&Repaying\", \"Disbursing\")\n",
    "                       .when(data[\"Loan Status\"] == \"Repaying\", \"Effective\")\n",
    "                       .when(data[\"Loan Status\"] == \"Negotiated\", \"Signed\")\n",
    "                       .when(data[\"Loan Status\"] == \"Draft\", \"Signed\")\n",
    "                       .otherwise(data[\"Loan Status\"]))\n",
    "\n",
    "# Group by the \"Loan Status\" column and count the occurrences of each unique value\n",
    "loan_status_counts = data.groupBy(\"Loan Status\").count()\n",
    "\n",
    "# Show the value counts\n",
    "loan_status_counts.show()"
   ]
  },
  {
   "cell_type": "markdown",
   "id": "dd8961ee",
   "metadata": {},
   "source": [
    "## Converting Date columns to DateTime format columns"
   ]
  },
  {
   "cell_type": "code",
   "execution_count": 13,
   "id": "eedbad91",
   "metadata": {},
   "outputs": [
    {
     "name": "stdout",
     "output_type": "stream",
     "text": [
      "Column 'End of Period' : 'date'\n",
      "Column 'Loan Number' : 'string'\n",
      "Column 'Region' : 'string'\n",
      "Column 'Country Code' : 'string'\n",
      "Column 'Country' : 'string'\n",
      "Column 'Borrower' : 'string'\n",
      "Column 'Guarantor Country Code' : 'string'\n",
      "Column 'Guarantor' : 'string'\n",
      "Column 'Loan Type' : 'string'\n",
      "Column 'Loan Status' : 'string'\n",
      "Column 'Interest Rate' : 'string'\n",
      "Column 'Currency of Commitment' : 'string'\n",
      "Column 'Project ID' : 'string'\n",
      "Column 'Project Name ' : 'string'\n",
      "Column 'Original Principal Amount' : 'string'\n",
      "Column 'Cancelled Amount' : 'string'\n",
      "Column 'Undisbursed Amount' : 'string'\n",
      "Column 'Disbursed Amount' : 'string'\n",
      "Column 'Repaid to IBRD' : 'string'\n",
      "Column 'Due to IBRD' : 'string'\n",
      "Column 'Exchange Adjustment' : 'string'\n",
      "Column 'Borrower's Obligation' : 'string'\n",
      "Column 'Sold 3rd Party' : 'string'\n",
      "Column 'Repaid 3rd Party' : 'string'\n",
      "Column 'Due 3rd Party' : 'string'\n",
      "Column 'Loans Held' : 'string'\n",
      "Column 'First Repayment Date' : 'date'\n",
      "Column 'Last Repayment Date' : 'date'\n",
      "Column 'Agreement Signing Date' : 'date'\n",
      "Column 'Board Approval Date' : 'date'\n",
      "Column 'Effective Date (Most Recent)' : 'date'\n",
      "Column 'Closed Date (Most Recent)' : 'date'\n",
      "Column 'Last Disbursement Date' : 'date'\n"
     ]
    }
   ],
   "source": [
    "from pyspark.sql.functions import to_date\n",
    "\n",
    "# Set the legacy time parser policy\n",
    "spark.conf.set(\"spark.sql.legacy.timeParserPolicy\", \"LEGACY\")\n",
    "\n",
    "# Convert columns to datetime format\n",
    "data = data.withColumn(\"First Repayment Date\", to_date(\"First Repayment Date\", \"MM/dd/yyyy\"))\n",
    "data = data.withColumn(\"Last Repayment Date\", to_date(\"Last Repayment Date\", \"MM/dd/yyyy\"))\n",
    "data = data.withColumn(\"Agreement Signing Date\", to_date(\"Agreement Signing Date\", \"MM/dd/yyyy\"))\n",
    "data = data.withColumn(\"Board Approval Date\", to_date(\"Board Approval Date\", \"MM/dd/yyyy\"))\n",
    "data = data.withColumn(\"Effective Date (Most Recent)\", to_date(\"Effective Date (Most Recent)\", \"MM/dd/yyyy\"))\n",
    "data = data.withColumn(\"Closed Date (Most Recent)\", to_date(\"Closed Date (Most Recent)\", \"MM/dd/yyyy\"))\n",
    "data = data.withColumn(\"Last Disbursement Date\", to_date(\"Last Disbursement Date\", \"MM/dd/yyyy\"))\n",
    "\n",
    "\n",
    "# Convert column to datetime format\n",
    "data = data.withColumn(\"End of Period\", to_date(\"End of Period\", \"MM/dd/yyyy HH:mm:ss\"))\n",
    "\n",
    "\n",
    "# Get the data types of columns in the DataFrame\n",
    "column_types = data.dtypes\n",
    "\n",
    "# Print the data types\n",
    "for column_name, data_type in column_types:\n",
    "    print(f\"Column '{column_name}' : '{data_type}'\")"
   ]
  },
  {
   "cell_type": "markdown",
   "id": "32454100",
   "metadata": {},
   "source": [
    "### Converting numerical columns to float"
   ]
  },
  {
   "cell_type": "code",
   "execution_count": 14,
   "id": "7c1f5430",
   "metadata": {},
   "outputs": [
    {
     "name": "stdout",
     "output_type": "stream",
     "text": [
      "Column 'End of Period' : 'date'\n",
      "Column 'Loan Number' : 'string'\n",
      "Column 'Region' : 'string'\n",
      "Column 'Country Code' : 'string'\n",
      "Column 'Country' : 'string'\n",
      "Column 'Borrower' : 'string'\n",
      "Column 'Guarantor Country Code' : 'string'\n",
      "Column 'Guarantor' : 'string'\n",
      "Column 'Loan Type' : 'string'\n",
      "Column 'Loan Status' : 'string'\n",
      "Column 'Interest Rate' : 'float'\n",
      "Column 'Currency of Commitment' : 'float'\n",
      "Column 'Project ID' : 'string'\n",
      "Column 'Project Name ' : 'string'\n",
      "Column 'Original Principal Amount' : 'float'\n",
      "Column 'Cancelled Amount' : 'float'\n",
      "Column 'Undisbursed Amount' : 'float'\n",
      "Column 'Disbursed Amount' : 'float'\n",
      "Column 'Repaid to IBRD' : 'float'\n",
      "Column 'Due to IBRD' : 'float'\n",
      "Column 'Exchange Adjustment' : 'float'\n",
      "Column 'Borrower's Obligation' : 'float'\n",
      "Column 'Sold 3rd Party' : 'float'\n",
      "Column 'Repaid 3rd Party' : 'float'\n",
      "Column 'Due 3rd Party' : 'float'\n",
      "Column 'Loans Held' : 'float'\n",
      "Column 'First Repayment Date' : 'date'\n",
      "Column 'Last Repayment Date' : 'date'\n",
      "Column 'Agreement Signing Date' : 'date'\n",
      "Column 'Board Approval Date' : 'date'\n",
      "Column 'Effective Date (Most Recent)' : 'date'\n",
      "Column 'Closed Date (Most Recent)' : 'date'\n",
      "Column 'Last Disbursement Date' : 'date'\n"
     ]
    }
   ],
   "source": [
    "from pyspark.sql.functions import col\n",
    "\n",
    "# Convert columns to float format\n",
    "data = data.withColumn(\"Interest Rate\", col(\"Interest Rate\").cast(\"float\"))\n",
    "data = data.withColumn(\"Currency of Commitment\", col(\"Currency of Commitment\").cast(\"float\"))\n",
    "data = data.withColumn(\"Original Principal Amount\", col(\"Original Principal Amount\").cast(\"float\"))\n",
    "\n",
    "data = data.withColumn(\"Cancelled Amount\", col(\"Cancelled Amount\").cast(\"float\"))\n",
    "data = data.withColumn(\"Undisbursed Amount\", col(\"Undisbursed Amount\").cast(\"float\"))\n",
    "data = data.withColumn(\"Disbursed Amount\", col(\"Disbursed Amount\").cast(\"float\"))\n",
    "\n",
    "data = data.withColumn(\"Repaid to IBRD\", col(\"Repaid to IBRD\").cast(\"float\"))\n",
    "data = data.withColumn(\"Due to IBRD\", col(\"Due to IBRD\").cast(\"float\"))\n",
    "data = data.withColumn(\"Exchange Adjustment\", col(\"Exchange Adjustment\").cast(\"float\"))\n",
    "\n",
    "\n",
    "data = data.withColumn(\"Borrower's Obligation\", col(\"Borrower's Obligation\").cast(\"float\"))\n",
    "data = data.withColumn(\"Sold 3rd Party\", col(\"Sold 3rd Party\").cast(\"float\"))\n",
    "data = data.withColumn(\"Repaid 3rd Party\", col(\"Repaid 3rd Party\").cast(\"float\"))\n",
    "\n",
    "data = data.withColumn(\"Due 3rd Party\", col(\"Due 3rd Party\").cast(\"float\"))\n",
    "data = data.withColumn(\"Loans Held\", col(\"Loans Held\").cast(\"float\"))\n",
    "# data = data.withColumn(\"Original Principal Amount\", col(\"Original Principal Amount\").cast(\"float\"))\n",
    "\n",
    "# Get the data types of columns in the DataFrame\n",
    "column_types = data.dtypes\n",
    "\n",
    "# Print the data types\n",
    "for column_name, data_type in column_types:\n",
    "    print(f\"Column '{column_name}' : '{data_type}'\")"
   ]
  },
  {
   "cell_type": "code",
   "execution_count": 15,
   "id": "28f74f3c",
   "metadata": {},
   "outputs": [
    {
     "name": "stdout",
     "output_type": "stream",
     "text": [
      "+------------------+-----------+------+------------+-------+------------------+----------------------+-----------------+--------------------+--------------------+-----------------+----------------------+--------------------+-----------------+-------------------------+--------------------+--------------------+--------------------+--------------------+--------------------+--------------------+---------------------+--------------------+--------------------+--------------------+--------------------+--------------------+-------------------+----------------------+--------------------+----------------------------+-------------------------+----------------------+\n",
      "|     End of Period|Loan Number|Region|Country Code|Country|          Borrower|Guarantor Country Code|        Guarantor|           Loan Type|         Loan Status|    Interest Rate|Currency of Commitment|          Project ID|    Project Name |Original Principal Amount|    Cancelled Amount|  Undisbursed Amount|    Disbursed Amount|      Repaid to IBRD|         Due to IBRD| Exchange Adjustment|Borrower's Obligation|      Sold 3rd Party|    Repaid 3rd Party|       Due 3rd Party|          Loans Held|First Repayment Date|Last Repayment Date|Agreement Signing Date| Board Approval Date|Effective Date (Most Recent)|Closed Date (Most Recent)|Last Disbursement Date|\n",
      "+------------------+-----------+------+------------+-------+------------------+----------------------+-----------------+--------------------+--------------------+-----------------+----------------------+--------------------+-----------------+-------------------------+--------------------+--------------------+--------------------+--------------------+--------------------+--------------------+---------------------+--------------------+--------------------+--------------------+--------------------+--------------------+-------------------+----------------------+--------------------+----------------------------+-------------------------+----------------------+\n",
      "|8.6068754851148E-4|        0.0|   0.0|         0.0|    0.0|0.6914450787450862|    3.7081549362778237|5.793757354966324|0.003755727484413731|0.003755727484413731|2.370020531310248|     99.99913931245149|0.007041989033275746|12.45352287238038|     0.019013370389844512|0.003755727484413731|0.003755727484413731|0.003755727484413731|0.003755727484413731|0.003755727484413731|0.003755727484413731| 0.004616415032925212|0.004616415032925212|0.004616415032925212|0.004616415032925212|0.004616415032925212|  0.3196280577881269|0.29239903352612734|    1.4470505020155737|0.004772903678109116|          0.7648382533363379|      0.09929204536918801|     40.88821390119933|\n",
      "+------------------+-----------+------+------------+-------+------------------+----------------------+-----------------+--------------------+--------------------+-----------------+----------------------+--------------------+-----------------+-------------------------+--------------------+--------------------+--------------------+--------------------+--------------------+--------------------+---------------------+--------------------+--------------------+--------------------+--------------------+--------------------+-------------------+----------------------+--------------------+----------------------------+-------------------------+----------------------+\n",
      "\n"
     ]
    }
   ],
   "source": [
    "from pyspark.sql.functions import col, sum\n",
    "\n",
    "# Count the total number of rows in the DataFrame\n",
    "total_rows = data.count()\n",
    "\n",
    "# Calculate the percentage of null values in each column\n",
    "null_percentages = data.agg(*[\n",
    "    (sum(col(c).isNull().cast(\"int\")) / total_rows * 100).alias(c)\n",
    "    for c in data.columns\n",
    "])\n",
    "\n",
    "# Show the percentage of null values for each column\n",
    "null_percentages.show()"
   ]
  },
  {
   "cell_type": "markdown",
   "id": "01095034",
   "metadata": {},
   "source": [
    " ## New dataframe i.e feature_data  selecting columns that are revelant and not selecting columns having imbalance data and null values more than 30%"
   ]
  },
  {
   "cell_type": "code",
   "execution_count": 16,
   "id": "80b9c04b",
   "metadata": {},
   "outputs": [],
   "source": [
    "# Select the columns you want to copy to the new DataFrame\n",
    "feature_data = data.select(\"End of Period\", \"Region\", \"Country\", \"Borrower\", \"Guarantor\", \"Loan Type\", \"Loan Status\", \"Interest Rate\",\n",
    "                           \"Original Principal Amount\", \"Cancelled Amount\", \"Undisbursed Amount\", \"Project Name \",\n",
    "                          \"Disbursed Amount\", \"Repaid to IBRD\", \"Due to IBRD\", \"Exchange Adjustment\", \"Borrower's Obligation\", \n",
    "                           \"Loans Held\", \"First Repayment Date\", \"Last Repayment Date\")"
   ]
  },
  {
   "cell_type": "code",
   "execution_count": 17,
   "id": "84afca0f",
   "metadata": {},
   "outputs": [
    {
     "name": "stdout",
     "output_type": "stream",
     "text": [
      "+-------------+------+-------+--------+---------+---------+-----------+-------------+-------------------------+----------------+------------------+-------------+----------------+--------------+-----------+-------------------+---------------------+----------+--------------------+-------------------+\n",
      "|End of Period|Region|Country|Borrower|Guarantor|Loan Type|Loan Status|Interest Rate|Original Principal Amount|Cancelled Amount|Undisbursed Amount|Project Name |Disbursed Amount|Repaid to IBRD|Due to IBRD|Exchange Adjustment|Borrower's Obligation|Loans Held|First Repayment Date|Last Repayment Date|\n",
      "+-------------+------+-------+--------+---------+---------+-----------+-------------+-------------------------+----------------+------------------+-------------+----------------+--------------+-----------+-------------------+---------------------+----------+--------------------+-------------------+\n",
      "|           11|     0|      0|    8837|    74047|       48|         48|        30290|                      243|              48|                48|       159162|              48|            48|         48|                 48|                   59|        59|                4085|               3737|\n",
      "+-------------+------+-------+--------+---------+---------+-----------+-------------+-------------------------+----------------+------------------+-------------+----------------+--------------+-----------+-------------------+---------------------+----------+--------------------+-------------------+\n",
      "\n"
     ]
    }
   ],
   "source": [
    "from pyspark.sql.functions import col, sum\n",
    "\n",
    "# Count the number of null values in each column\n",
    "null_counts = feature_data.select([sum(col(c).isNull().cast(\"int\")).alias(c) for c in feature_data.columns])\n",
    "\n",
    "# Show the null value counts\n",
    "null_counts.show()"
   ]
  },
  {
   "cell_type": "markdown",
   "id": "3e694446",
   "metadata": {},
   "source": [
    "## Value counts in Project name column"
   ]
  },
  {
   "cell_type": "code",
   "execution_count": 18,
   "id": "150d7f91",
   "metadata": {},
   "outputs": [
    {
     "name": "stdout",
     "output_type": "stream",
     "text": [
      "+-------------------+------+\n",
      "|      Project Name | count|\n",
      "+-------------------+------+\n",
      "|               NULL|159162|\n",
      "|              POWER|  5575|\n",
      "|       EDUCATION II|  4488|\n",
      "|              SAL I|  3398|\n",
      "|      EDUCATION III|  3128|\n",
      "|        HIGHWAYS II|  3128|\n",
      "|        HIGHWAYS IV|  2856|\n",
      "|          POWER III|  2855|\n",
      "|                SAL|  2846|\n",
      "|        RAILWAYS II|  2584|\n",
      "|             SAL II|  2582|\n",
      "|       HIGHWAYS III|  2448|\n",
      "|        EDUCATION I|  2448|\n",
      "|           POWER II|  2448|\n",
      "|AGRICULTURAL CREDIT|  2312|\n",
      "|            POWER I|  2312|\n",
      "|GENERAL DEVELOPMENT|  2176|\n",
      "|           POWER IV|  2176|\n",
      "| POWER TRANSMISSION|  2171|\n",
      "|             HEALTH|  2169|\n",
      "+-------------------+------+\n",
      "only showing top 20 rows\n",
      "\n"
     ]
    }
   ],
   "source": [
    "# Count the occurrences of each unique value in the Project Name column\n",
    "project_name_counts = data.groupBy(\"Project Name \").count().orderBy(col(\"count\").desc())\n",
    "\n",
    "# Show the count of occurrences for each unique value in the Project Name column\n",
    "project_name_counts.show()"
   ]
  },
  {
   "cell_type": "markdown",
   "id": "d9f81a9f",
   "metadata": {},
   "source": [
    "## Filling up null values "
   ]
  },
  {
   "cell_type": "code",
   "execution_count": 19,
   "id": "f12fbdb4",
   "metadata": {},
   "outputs": [],
   "source": [
    "from pyspark.sql.functions import mean, col\n",
    "\n",
    "# List of numerical columns\n",
    "numerical_columns = ['Interest Rate','Original Principal Amount', 'Cancelled Amount', 'Undisbursed Amount', \n",
    "                     'Disbursed Amount', 'Repaid to IBRD', 'Due to IBRD', 'Exchange Adjustment', \n",
    "                     \"Borrower's Obligation\", 'Loans Held']\n",
    "\n",
    "# Calculate the mean value for each numerical column\n",
    "mean_values = feature_data.select(*(mean(col(c)).alias(c) for c in numerical_columns)).collect()[0].asDict()\n",
    "\n",
    "# Fill null values with the mean value of each numerical column\n",
    "for column in numerical_columns:\n",
    "    feature_data = feature_data.withColumn(column, when(col(column).isNull(), mean_values[column]).otherwise(col(column)))\n",
    "    \n",
    "    \n",
    "    \n",
    "\n",
    "\n",
    "# List of string columns\n",
    "string_columns = ['Borrower', 'Loan Type', 'Loan Status']\n",
    "\n",
    "# Calculate the mode value for each string column\n",
    "mode_values = {}\n",
    "for column in string_columns:\n",
    "    mode_value = feature_data.groupBy(column).count().orderBy(col(\"count\").desc()).select(column).first()[0]\n",
    "    mode_values[column] = mode_value\n",
    "\n",
    "# Fill null values with the mode value of each string column\n",
    "for column in string_columns:\n",
    "    feature_data = feature_data.withColumn(column, when(col(column).isNull(), mode_values[column]).otherwise(col(column)))\n",
    "    \n",
    "\n",
    "# Replace null values in the 'Project Name', 'Guarantor' column with 'Unknown'\n",
    "feature_data = feature_data.withColumn(\"Project Name \", when(col(\"Project Name \").isNull(), \"Unknown\").otherwise(col(\"Project Name \")))\n",
    "feature_data = feature_data.withColumn(\"Guarantor\", when(col(\"Guarantor\").isNull(), \"Unknown\").otherwise(col(\"Guarantor\")))\n",
    "    \n",
    " \n",
    "    \n",
    "    \n",
    "# List of date columns\n",
    "date_columns = ['End of Period', 'First Repayment Date', 'Last Repayment Date']\n",
    "\n",
    "\n",
    "# Calculate the mode value for each date column\n",
    "mode_values = {}\n",
    "for column in date_columns:\n",
    "    mode_value = feature_data.groupBy(column).count().orderBy(col(\"count\").desc()).select(column).first()[0]\n",
    "    mode_values[column] = mode_value\n",
    "\n",
    "# Fill null values with the mode value of each date column\n",
    "for column in date_columns:\n",
    "    feature_data = feature_data.withColumn(column, when(col(column).isNull(), mode_values[column]).otherwise(col(column)))   \n"
   ]
  },
  {
   "cell_type": "code",
   "execution_count": 20,
   "id": "93aaa743",
   "metadata": {},
   "outputs": [
    {
     "name": "stdout",
     "output_type": "stream",
     "text": [
      "+-------------+------+-------+--------+---------+---------+-----------+-------------+-------------------------+----------------+------------------+-------------+----------------+--------------+-----------+-------------------+---------------------+----------+--------------------+-------------------+\n",
      "|End of Period|Region|Country|Borrower|Guarantor|Loan Type|Loan Status|Interest Rate|Original Principal Amount|Cancelled Amount|Undisbursed Amount|Project Name |Disbursed Amount|Repaid to IBRD|Due to IBRD|Exchange Adjustment|Borrower's Obligation|Loans Held|First Repayment Date|Last Repayment Date|\n",
      "+-------------+------+-------+--------+---------+---------+-----------+-------------+-------------------------+----------------+------------------+-------------+----------------+--------------+-----------+-------------------+---------------------+----------+--------------------+-------------------+\n",
      "|          0.0|   0.0|    0.0|     0.0|      0.0|      0.0|        0.0|          0.0|                      0.0|             0.0|               0.0|          0.0|             0.0|           0.0|        0.0|                0.0|                  0.0|       0.0|                 0.0|                0.0|\n",
      "+-------------+------+-------+--------+---------+---------+-----------+-------------+-------------------------+----------------+------------------+-------------+----------------+--------------+-----------+-------------------+---------------------+----------+--------------------+-------------------+\n",
      "\n"
     ]
    }
   ],
   "source": [
    "from pyspark.sql.functions import col, lit\n",
    "\n",
    "# Count the total number of rows in the DataFrame\n",
    "total_rows = feature_data.count()\n",
    "\n",
    "# Calculate the percentage of null values in each column\n",
    "null_percentage = feature_data.agg(*[(sum(col(c).isNull().cast(\"int\")) * 100 / lit(total_rows)).alias(c) for c in feature_data.columns])\n",
    "\n",
    "# Show the null percentages\n",
    "null_percentage.show()"
   ]
  },
  {
   "cell_type": "markdown",
   "id": "ff36fabe",
   "metadata": {},
   "source": [
    "## New column of date difference of Last Repayment Date and First Repayment Date"
   ]
  },
  {
   "cell_type": "code",
   "execution_count": 21,
   "id": "09424092",
   "metadata": {},
   "outputs": [
    {
     "name": "stdout",
     "output_type": "stream",
     "text": [
      "['End of Period', 'Region', 'Country', 'Borrower', 'Guarantor', 'Loan Type', 'Loan Status', 'Interest Rate', 'Original Principal Amount', 'Cancelled Amount', 'Undisbursed Amount', 'Project Name ', 'Disbursed Amount', 'Repaid to IBRD', 'Due to IBRD', 'Exchange Adjustment', \"Borrower's Obligation\", 'Loans Held', 'Days Difference']\n"
     ]
    }
   ],
   "source": [
    "from pyspark.sql.functions import datediff\n",
    "\n",
    "# Calculate the difference in days between the two dates\n",
    "feature_data = feature_data.withColumn(\"Days Difference\", datediff(\"Last Repayment Date\", \"First Repayment Date\"))\n",
    "\n",
    "# Drop the 'First Repayment Date' and 'Last Repayment Date' columns\n",
    "feature_data = feature_data.drop(\"First Repayment Date\", \"Last Repayment Date\")\n",
    "\n",
    "# Show the DataFrame with the new 'Days Difference' column\n",
    "# Display the list of columns\n",
    "print(feature_data.columns)"
   ]
  },
  {
   "cell_type": "code",
   "execution_count": 22,
   "id": "c697be16",
   "metadata": {},
   "outputs": [
    {
     "name": "stdout",
     "output_type": "stream",
     "text": [
      "Column 'End of Period' : 'date'\n",
      "Column 'Region' : 'string'\n",
      "Column 'Country' : 'string'\n",
      "Column 'Borrower' : 'string'\n",
      "Column 'Guarantor' : 'string'\n",
      "Column 'Loan Type' : 'string'\n",
      "Column 'Loan Status' : 'string'\n",
      "Column 'Interest Rate' : 'double'\n",
      "Column 'Original Principal Amount' : 'double'\n",
      "Column 'Cancelled Amount' : 'double'\n",
      "Column 'Undisbursed Amount' : 'double'\n",
      "Column 'Project Name ' : 'string'\n",
      "Column 'Disbursed Amount' : 'double'\n",
      "Column 'Repaid to IBRD' : 'double'\n",
      "Column 'Due to IBRD' : 'double'\n",
      "Column 'Exchange Adjustment' : 'double'\n",
      "Column 'Borrower's Obligation' : 'double'\n",
      "Column 'Loans Held' : 'double'\n",
      "Column 'Days Difference' : 'int'\n"
     ]
    }
   ],
   "source": [
    "# Get the data types of columns in the DataFrame\n",
    "column_types = feature_data.dtypes\n",
    "\n",
    "# Print the data types\n",
    "for column_name, data_type in column_types:\n",
    "    print(f\"Column '{column_name}' : '{data_type}'\")"
   ]
  },
  {
   "cell_type": "code",
   "execution_count": 23,
   "id": "7b370e28",
   "metadata": {
    "scrolled": false
   },
   "outputs": [
    {
     "name": "stdout",
     "output_type": "stream",
     "text": [
      "+-------------+--------------------+------------------+--------------------+------------------+---------+-----------+------------------+-------------------------+----------------+------------------+--------------------+----------------+--------------+-----------+--------------------+---------------------+-----------+---------------+\n",
      "|End of Period|              Region|           Country|            Borrower|         Guarantor|Loan Type|Loan Status|     Interest Rate|Original Principal Amount|Cancelled Amount|Undisbursed Amount|       Project Name |Disbursed Amount|Repaid to IBRD|Due to IBRD| Exchange Adjustment|Borrower's Obligation| Loans Held|Days Difference|\n",
      "+-------------+--------------------+------------------+--------------------+------------------+---------+-----------+------------------+-------------------------+----------------+------------------+--------------------+----------------+--------------+-----------+--------------------+---------------------+-----------+---------------+\n",
      "|   2012-01-31|EAST ASIA AND PAC...|         Singapore|DIRECTION OF FINA...|           Unknown| NON POOL|     Repaid|               6.0|                    2.3E7|             0.0|               0.0| SINGAPORE POWER III|           2.3E7|   2.0720214E7|        0.0|0.009999999776482582| 0.009999999776482582|        0.0|           6209|\n",
      "|   2012-01-31|EUROPE AND CENTRA...|        Montenegro| Ministry of Finance|           Unknown|      FSL|  Disbursed|               0.0|              6.0247424E7|             0.0|               0.0|             Unknown|     6.0247424E7|    4.539588E7|1.4851542E7|         3.1738326E7|          4.6589868E7|1.4851542E7|           9679|\n",
      "|   2012-01-31|EUROPE AND CENTRA...|Russian Federation| Ministry of Finance|Russian Federation|POOL LOAN|  Disbursed|2.1500000953674316|                  1.065E8|     8.3798944E7|               0.0|             EGY EFF|     2.2701052E7|   2.0437224E7|  2263828.0|         641101.8125|            2904930.0|  2263828.0|           4199|\n",
      "|   2012-01-31|EAST ASIA AND PAC...|       Philippines|National Electrif...|       Philippines|POOL LOAN|  Disbursed| 8.069999694824219|                   9.13E7|      3.665756E7|               0.0|RURAL ELECTRIFICATIO|      5.464244E7|    5.171164E7|  2930801.5|           528435.25|           3459236.75|  2930801.5|           5296|\n",
      "|   2012-01-31|EAST ASIA AND PAC...|       Philippines|Development Bank ...|       Philippines|      FSL|   Approved|               0.0|                    5.0E7|             0.0|        5.028922E7|PH - Regl Infrast...|             0.0|           0.0|        0.0|                 0.0|                  0.0| 5.028922E7|           4748|\n",
      "|   2012-01-31|EUROPE AND CENTRA...|            Poland|ZARZAD MORSKIEGO ...|            Poland|      FSL|  Disbursed|               0.0|                    1.1E7|     1408116.625|               0.0|  SEAWAY/PORT MODERN|     1.3588092E7|     7631908.5|  5956183.5|        189053.21875|            6145236.5|  5956183.5|           3470|\n",
      "|   2012-01-31|EAST ASIA AND PAC...|             China| Ministry of Finance|             China|      FSL|  Disbursed|               0.0|                    1.0E8|      292253.625|               0.0|CN - Poor Rural C...|     9.9707744E7|   3.1360704E7| 6.834704E7|                 0.0|           6.834704E7| 6.834704E7|           4200|\n",
      "|   2012-01-31|EAST ASIA AND PAC...|             China| Ministry of Finance|             China|      FSL|  Disbursed|               0.0|                    1.0E8|       5000000.0|               0.0|      CN-MSE Finance|           9.5E7|     6783000.0|   8.8217E7|                 0.0|             8.8217E7|   8.8217E7|           4932|\n",
      "|   2012-01-31|EAST ASIA AND PAC...|         Indonesia| Ministry of Finance|         Indonesia|  SCP USD|  Disbursed| 4.230000019073486|               2196559.25|             0.0|               0.0|ID - NUSA TENGGAR...|      2196559.25|    1284580.25|911978.9375|      -34878.0390625|           877100.875|911978.9375|           5295|\n",
      "|   2013-01-31|EUROPE AND CENTRA...|            Serbia| Ministry of Finance|            Serbia|      FSL|  Disbursed|               0.0|                   1.35E7|    444111.84375|               0.0|     HEALTH (SERBIA)|      1.360951E7|           0.0| 1.360951E7|       152484.546875|          1.3761994E7| 1.360951E7|           4202|\n",
      "+-------------+--------------------+------------------+--------------------+------------------+---------+-----------+------------------+-------------------------+----------------+------------------+--------------------+----------------+--------------+-----------+--------------------+---------------------+-----------+---------------+\n",
      "only showing top 10 rows\n",
      "\n"
     ]
    }
   ],
   "source": [
    "feature_data.show(10)"
   ]
  },
  {
   "cell_type": "markdown",
   "id": "83946faf",
   "metadata": {},
   "source": [
    "## Model Building "
   ]
  },
  {
   "cell_type": "code",
   "execution_count": 24,
   "id": "6c0fae9f",
   "metadata": {},
   "outputs": [
    {
     "name": "stdout",
     "output_type": "stream",
     "text": [
      "+-------------+--------------------+------------------+--------------------+------------------+---------+-----------+------------------+-------------------------+----------------+------------------+--------------------+----------------+--------------+-----------+--------------------+---------------------+-----------+---------------+------------+--------------+-----------------+-------------------+---------------+-----------------+-------------+----------------+\n",
      "|End of Period|              Region|           Country|            Borrower|         Guarantor|Loan Type|Loan Status|     Interest Rate|Original Principal Amount|Cancelled Amount|Undisbursed Amount|       Project Name |Disbursed Amount|Repaid to IBRD|Due to IBRD| Exchange Adjustment|Borrower's Obligation| Loans Held|Days Difference|Region_index|Region_encoded|Loan Status_index|Loan Status_encoded|Loan Type_index|Loan Type_encoded|Country_index| Country_encoded|\n",
      "+-------------+--------------------+------------------+--------------------+------------------+---------+-----------+------------------+-------------------------+----------------+------------------+--------------------+----------------+--------------+-----------+--------------------+---------------------+-----------+---------------+------------+--------------+-----------------+-------------------+---------------+-----------------+-------------+----------------+\n",
      "|   2012-01-31|EAST ASIA AND PAC...|         Singapore|DIRECTION OF FINA...|           Unknown| NON POOL|     Repaid|               6.0|                    2.3E7|             0.0|               0.0| SINGAPORE POWER III|           2.3E7|   2.0720214E7|        0.0|0.009999999776482582| 0.009999999776482582|        0.0|           6209|         1.0|(12,[1],[1.0])|              0.0|      (8,[0],[1.0])|            2.0|   (19,[2],[1.0])|         89.0|(157,[89],[1.0])|\n",
      "|   2012-01-31|EUROPE AND CENTRA...|        Montenegro| Ministry of Finance|           Unknown|      FSL|  Disbursed|               0.0|              6.0247424E7|             0.0|               0.0|             Unknown|     6.0247424E7|    4.539588E7|1.4851542E7|         3.1738326E7|          4.6589868E7|1.4851542E7|           9679|         2.0|(12,[2],[1.0])|              1.0|      (8,[1],[1.0])|            0.0|   (19,[0],[1.0])|         85.0|(157,[85],[1.0])|\n",
      "|   2012-01-31|EUROPE AND CENTRA...|Russian Federation| Ministry of Finance|Russian Federation|POOL LOAN|  Disbursed|2.1500000953674316|                  1.065E8|     8.3798944E7|               0.0|             EGY EFF|     2.2701052E7|   2.0437224E7|  2263828.0|         641101.8125|            2904930.0|  2263828.0|           4199|         2.0|(12,[2],[1.0])|              1.0|      (8,[1],[1.0])|            1.0|   (19,[1],[1.0])|         28.0|(157,[28],[1.0])|\n",
      "|   2012-01-31|EAST ASIA AND PAC...|       Philippines|National Electrif...|       Philippines|POOL LOAN|  Disbursed| 8.069999694824219|                   9.13E7|      3.665756E7|               0.0|RURAL ELECTRIFICATIO|      5.464244E7|    5.171164E7|  2930801.5|           528435.25|           3459236.75|  2930801.5|           5296|         1.0|(12,[1],[1.0])|              1.0|      (8,[1],[1.0])|            1.0|   (19,[1],[1.0])|          6.0| (157,[6],[1.0])|\n",
      "|   2012-01-31|EAST ASIA AND PAC...|       Philippines|Development Bank ...|       Philippines|      FSL|   Approved|               0.0|                    5.0E7|             0.0|        5.028922E7|PH - Regl Infrast...|             0.0|           0.0|        0.0|                 0.0|                  0.0| 5.028922E7|           4748|         1.0|(12,[1],[1.0])|              6.0|      (8,[6],[1.0])|            0.0|   (19,[0],[1.0])|          6.0| (157,[6],[1.0])|\n",
      "+-------------+--------------------+------------------+--------------------+------------------+---------+-----------+------------------+-------------------------+----------------+------------------+--------------------+----------------+--------------+-----------+--------------------+---------------------+-----------+---------------+------------+--------------+-----------------+-------------------+---------------+-----------------+-------------+----------------+\n",
      "only showing top 5 rows\n",
      "\n"
     ]
    }
   ],
   "source": [
    "from pyspark.ml.feature import StringIndexer, OneHotEncoder\n",
    "from pyspark.ml import Pipeline\n",
    "\n",
    "# Define the columns to be encoded\n",
    "columns_to_encode = ['Region', 'Loan Status', 'Loan Type', 'Country']\n",
    "\n",
    "# Create a list to hold the stages of the pipeline\n",
    "stages = []\n",
    "\n",
    "# Loop through each column to be encoded\n",
    "for col_name in columns_to_encode:\n",
    "    # Create a StringIndexer for each column\n",
    "    string_indexer = StringIndexer(inputCol=col_name, outputCol=col_name + \"_index\")\n",
    "\n",
    "    # Create a OneHotEncoder for each column\n",
    "    one_hot_encoder = OneHotEncoder(inputCols=[string_indexer.getOutputCol()], outputCols=[col_name + \"_encoded\"])\n",
    "\n",
    "    # Add the stages to the list\n",
    "    stages += [string_indexer, one_hot_encoder]\n",
    "\n",
    "# Create the pipeline\n",
    "pipeline = Pipeline(stages=stages)\n",
    "\n",
    "# Fit and transform the pipeline to the feature_data\n",
    "feature_data = pipeline.fit(feature_data).transform(feature_data)\n",
    "\n",
    "# Show the first few rows of the encoded feature_data\n",
    "feature_data.show(5)"
   ]
  },
  {
   "cell_type": "code",
   "execution_count": 25,
   "id": "692a00e2",
   "metadata": {},
   "outputs": [],
   "source": [
    "# Drop the 'End of Period' column from the DataFrame\n",
    "feature_data = feature_data.drop(\"End of Period\")"
   ]
  },
  {
   "cell_type": "code",
   "execution_count": 26,
   "id": "e2e85876",
   "metadata": {},
   "outputs": [
    {
     "name": "stdout",
     "output_type": "stream",
     "text": [
      "Number of rows: 1278048\n",
      "Number of columns: 26\n"
     ]
    }
   ],
   "source": [
    "# Count the number of rows\n",
    "num_rows = feature_data.count()\n",
    "\n",
    "# Get the list of column names\n",
    "columns = feature_data.columns\n",
    "num_columns = len(columns)\n",
    "\n",
    "print(\"Number of rows:\", num_rows)\n",
    "print(\"Number of columns:\", num_columns)"
   ]
  },
  {
   "cell_type": "code",
   "execution_count": 27,
   "id": "54830c5c",
   "metadata": {},
   "outputs": [
    {
     "name": "stdout",
     "output_type": "stream",
     "text": [
      "Column 'Region' : 'string'\n",
      "Column 'Country' : 'string'\n",
      "Column 'Borrower' : 'string'\n",
      "Column 'Guarantor' : 'string'\n",
      "Column 'Loan Type' : 'string'\n",
      "Column 'Loan Status' : 'string'\n",
      "Column 'Interest Rate' : 'double'\n",
      "Column 'Original Principal Amount' : 'double'\n",
      "Column 'Cancelled Amount' : 'double'\n",
      "Column 'Undisbursed Amount' : 'double'\n",
      "Column 'Project Name ' : 'string'\n",
      "Column 'Disbursed Amount' : 'double'\n",
      "Column 'Repaid to IBRD' : 'double'\n",
      "Column 'Due to IBRD' : 'double'\n",
      "Column 'Exchange Adjustment' : 'double'\n",
      "Column 'Borrower's Obligation' : 'double'\n",
      "Column 'Loans Held' : 'double'\n",
      "Column 'Days Difference' : 'int'\n",
      "Column 'Region_index' : 'double'\n",
      "Column 'Region_encoded' : 'vector'\n",
      "Column 'Loan Status_index' : 'double'\n",
      "Column 'Loan Status_encoded' : 'vector'\n",
      "Column 'Loan Type_index' : 'double'\n",
      "Column 'Loan Type_encoded' : 'vector'\n",
      "Column 'Country_index' : 'double'\n",
      "Column 'Country_encoded' : 'vector'\n"
     ]
    }
   ],
   "source": [
    "# Get the data types of columns in the DataFrame\n",
    "column_types = feature_data.dtypes\n",
    "\n",
    "# Print the data types\n",
    "for column_name, data_type in column_types:\n",
    "    print(f\"Column '{column_name}' : '{data_type}'\")"
   ]
  },
  {
   "cell_type": "code",
   "execution_count": null,
   "id": "a036e07a",
   "metadata": {},
   "outputs": [],
   "source": []
  }
 ],
 "metadata": {
  "kernelspec": {
   "display_name": "Python 3 (ipykernel)",
   "language": "python",
   "name": "python3"
  },
  "language_info": {
   "codemirror_mode": {
    "name": "ipython",
    "version": 3
   },
   "file_extension": ".py",
   "mimetype": "text/x-python",
   "name": "python",
   "nbconvert_exporter": "python",
   "pygments_lexer": "ipython3",
   "version": "3.9.7"
  }
 },
 "nbformat": 4,
 "nbformat_minor": 5
}
